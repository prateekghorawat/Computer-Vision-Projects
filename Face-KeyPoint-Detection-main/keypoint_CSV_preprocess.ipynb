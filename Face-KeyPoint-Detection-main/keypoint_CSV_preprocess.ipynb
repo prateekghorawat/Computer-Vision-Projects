{
 "cells": [
  {
   "cell_type": "code",
   "execution_count": 1,
   "metadata": {},
   "outputs": [],
   "source": [
    "import numpy as np\n",
    "import matplotlib.pyplot as plt\n",
    "import pandas as pd\n",
    "from IPython.display import clear_output\n",
    "from time import sleep\n",
    "import os"
   ]
  },
  {
   "cell_type": "code",
   "execution_count": 2,
   "metadata": {},
   "outputs": [],
   "source": [
    "csv_path = 'via_export_csv_test.csv'\n",
    "csv_data = pd.read_csv(csv_path)  \n",
    "csv_path_final = 'testimgface.csv'"
   ]
  },
  {
   "cell_type": "code",
   "execution_count": 3,
   "metadata": {},
   "outputs": [
    {
     "data": {
      "text/html": [
       "<div>\n",
       "<style scoped>\n",
       "    .dataframe tbody tr th:only-of-type {\n",
       "        vertical-align: middle;\n",
       "    }\n",
       "\n",
       "    .dataframe tbody tr th {\n",
       "        vertical-align: top;\n",
       "    }\n",
       "\n",
       "    .dataframe thead th {\n",
       "        text-align: right;\n",
       "    }\n",
       "</style>\n",
       "<table border=\"1\" class=\"dataframe\">\n",
       "  <thead>\n",
       "    <tr style=\"text-align: right;\">\n",
       "      <th></th>\n",
       "      <th>filename</th>\n",
       "      <th>file_size</th>\n",
       "      <th>file_attributes</th>\n",
       "      <th>region_count</th>\n",
       "      <th>region_id</th>\n",
       "      <th>region_shape_attributes</th>\n",
       "      <th>region_attributes</th>\n",
       "    </tr>\n",
       "  </thead>\n",
       "  <tbody>\n",
       "    <tr>\n",
       "      <th>0</th>\n",
       "      <td>testimg_1.jpg</td>\n",
       "      <td>17351</td>\n",
       "      <td>{\"series\":\"\",\"frame_id\":\"\"}</td>\n",
       "      <td>16</td>\n",
       "      <td>0</td>\n",
       "      <td>{\"name\":\"point\",\"cx\":117,\"cy\":128}</td>\n",
       "      <td>{}</td>\n",
       "    </tr>\n",
       "    <tr>\n",
       "      <th>1</th>\n",
       "      <td>testimg_1.jpg</td>\n",
       "      <td>17351</td>\n",
       "      <td>{\"series\":\"\",\"frame_id\":\"\"}</td>\n",
       "      <td>16</td>\n",
       "      <td>1</td>\n",
       "      <td>{\"name\":\"point\",\"cx\":127,\"cy\":126}</td>\n",
       "      <td>{}</td>\n",
       "    </tr>\n",
       "    <tr>\n",
       "      <th>2</th>\n",
       "      <td>testimg_1.jpg</td>\n",
       "      <td>17351</td>\n",
       "      <td>{\"series\":\"\",\"frame_id\":\"\"}</td>\n",
       "      <td>16</td>\n",
       "      <td>2</td>\n",
       "      <td>{\"name\":\"point\",\"cx\":133,\"cy\":123}</td>\n",
       "      <td>{}</td>\n",
       "    </tr>\n",
       "    <tr>\n",
       "      <th>3</th>\n",
       "      <td>testimg_1.jpg</td>\n",
       "      <td>17351</td>\n",
       "      <td>{\"series\":\"\",\"frame_id\":\"\"}</td>\n",
       "      <td>16</td>\n",
       "      <td>3</td>\n",
       "      <td>{\"name\":\"point\",\"cx\":149,\"cy\":122}</td>\n",
       "      <td>{}</td>\n",
       "    </tr>\n",
       "    <tr>\n",
       "      <th>4</th>\n",
       "      <td>testimg_1.jpg</td>\n",
       "      <td>17351</td>\n",
       "      <td>{\"series\":\"\",\"frame_id\":\"\"}</td>\n",
       "      <td>16</td>\n",
       "      <td>4</td>\n",
       "      <td>{\"name\":\"point\",\"cx\":157,\"cy\":117}</td>\n",
       "      <td>{}</td>\n",
       "    </tr>\n",
       "  </tbody>\n",
       "</table>\n",
       "</div>"
      ],
      "text/plain": [
       "        filename  file_size              file_attributes  region_count  \\\n",
       "0  testimg_1.jpg      17351  {\"series\":\"\",\"frame_id\":\"\"}            16   \n",
       "1  testimg_1.jpg      17351  {\"series\":\"\",\"frame_id\":\"\"}            16   \n",
       "2  testimg_1.jpg      17351  {\"series\":\"\",\"frame_id\":\"\"}            16   \n",
       "3  testimg_1.jpg      17351  {\"series\":\"\",\"frame_id\":\"\"}            16   \n",
       "4  testimg_1.jpg      17351  {\"series\":\"\",\"frame_id\":\"\"}            16   \n",
       "\n",
       "   region_id             region_shape_attributes region_attributes  \n",
       "0          0  {\"name\":\"point\",\"cx\":117,\"cy\":128}                {}  \n",
       "1          1  {\"name\":\"point\",\"cx\":127,\"cy\":126}                {}  \n",
       "2          2  {\"name\":\"point\",\"cx\":133,\"cy\":123}                {}  \n",
       "3          3  {\"name\":\"point\",\"cx\":149,\"cy\":122}                {}  \n",
       "4          4  {\"name\":\"point\",\"cx\":157,\"cy\":117}                {}  "
      ]
     },
     "execution_count": 3,
     "metadata": {},
     "output_type": "execute_result"
    }
   ],
   "source": [
    "csv_data.head()"
   ]
  },
  {
   "cell_type": "code",
   "execution_count": 4,
   "metadata": {},
   "outputs": [
    {
     "data": {
      "text/html": [
       "<div>\n",
       "<style scoped>\n",
       "    .dataframe tbody tr th:only-of-type {\n",
       "        vertical-align: middle;\n",
       "    }\n",
       "\n",
       "    .dataframe tbody tr th {\n",
       "        vertical-align: top;\n",
       "    }\n",
       "\n",
       "    .dataframe thead th {\n",
       "        text-align: right;\n",
       "    }\n",
       "</style>\n",
       "<table border=\"1\" class=\"dataframe\">\n",
       "  <thead>\n",
       "    <tr style=\"text-align: right;\">\n",
       "      <th></th>\n",
       "      <th>filename</th>\n",
       "      <th>file_size</th>\n",
       "      <th>file_attributes</th>\n",
       "      <th>region_count</th>\n",
       "      <th>region_id</th>\n",
       "      <th>region_shape_attributes</th>\n",
       "      <th>region_attributes</th>\n",
       "      <th>cx</th>\n",
       "      <th>cy</th>\n",
       "    </tr>\n",
       "  </thead>\n",
       "  <tbody>\n",
       "    <tr>\n",
       "      <th>0</th>\n",
       "      <td>testimg_1.jpg</td>\n",
       "      <td>17351</td>\n",
       "      <td>{\"series\":\"\",\"frame_id\":\"\"}</td>\n",
       "      <td>16</td>\n",
       "      <td>0</td>\n",
       "      <td>{\"name\":\"point\",\"cx\":117,\"cy\":128}</td>\n",
       "      <td>{}</td>\n",
       "      <td>117</td>\n",
       "      <td>128</td>\n",
       "    </tr>\n",
       "    <tr>\n",
       "      <th>1</th>\n",
       "      <td>testimg_1.jpg</td>\n",
       "      <td>17351</td>\n",
       "      <td>{\"series\":\"\",\"frame_id\":\"\"}</td>\n",
       "      <td>16</td>\n",
       "      <td>1</td>\n",
       "      <td>{\"name\":\"point\",\"cx\":127,\"cy\":126}</td>\n",
       "      <td>{}</td>\n",
       "      <td>127</td>\n",
       "      <td>126</td>\n",
       "    </tr>\n",
       "    <tr>\n",
       "      <th>2</th>\n",
       "      <td>testimg_1.jpg</td>\n",
       "      <td>17351</td>\n",
       "      <td>{\"series\":\"\",\"frame_id\":\"\"}</td>\n",
       "      <td>16</td>\n",
       "      <td>2</td>\n",
       "      <td>{\"name\":\"point\",\"cx\":133,\"cy\":123}</td>\n",
       "      <td>{}</td>\n",
       "      <td>133</td>\n",
       "      <td>123</td>\n",
       "    </tr>\n",
       "    <tr>\n",
       "      <th>3</th>\n",
       "      <td>testimg_1.jpg</td>\n",
       "      <td>17351</td>\n",
       "      <td>{\"series\":\"\",\"frame_id\":\"\"}</td>\n",
       "      <td>16</td>\n",
       "      <td>3</td>\n",
       "      <td>{\"name\":\"point\",\"cx\":149,\"cy\":122}</td>\n",
       "      <td>{}</td>\n",
       "      <td>149</td>\n",
       "      <td>122</td>\n",
       "    </tr>\n",
       "    <tr>\n",
       "      <th>4</th>\n",
       "      <td>testimg_1.jpg</td>\n",
       "      <td>17351</td>\n",
       "      <td>{\"series\":\"\",\"frame_id\":\"\"}</td>\n",
       "      <td>16</td>\n",
       "      <td>4</td>\n",
       "      <td>{\"name\":\"point\",\"cx\":157,\"cy\":117}</td>\n",
       "      <td>{}</td>\n",
       "      <td>157</td>\n",
       "      <td>117</td>\n",
       "    </tr>\n",
       "  </tbody>\n",
       "</table>\n",
       "</div>"
      ],
      "text/plain": [
       "        filename  file_size              file_attributes  region_count  \\\n",
       "0  testimg_1.jpg      17351  {\"series\":\"\",\"frame_id\":\"\"}            16   \n",
       "1  testimg_1.jpg      17351  {\"series\":\"\",\"frame_id\":\"\"}            16   \n",
       "2  testimg_1.jpg      17351  {\"series\":\"\",\"frame_id\":\"\"}            16   \n",
       "3  testimg_1.jpg      17351  {\"series\":\"\",\"frame_id\":\"\"}            16   \n",
       "4  testimg_1.jpg      17351  {\"series\":\"\",\"frame_id\":\"\"}            16   \n",
       "\n",
       "   region_id             region_shape_attributes region_attributes   cx   cy  \n",
       "0          0  {\"name\":\"point\",\"cx\":117,\"cy\":128}                {}  117  128  \n",
       "1          1  {\"name\":\"point\",\"cx\":127,\"cy\":126}                {}  127  126  \n",
       "2          2  {\"name\":\"point\",\"cx\":133,\"cy\":123}                {}  133  123  \n",
       "3          3  {\"name\":\"point\",\"cx\":149,\"cy\":122}                {}  149  122  \n",
       "4          4  {\"name\":\"point\",\"cx\":157,\"cy\":117}                {}  157  117  "
      ]
     },
     "execution_count": 4,
     "metadata": {},
     "output_type": "execute_result"
    }
   ],
   "source": [
    "csv_data['cx'] = csv_data.region_shape_attributes.str.extract('name\":\"point\",\"cx\":([^,\"cy\"]*)')\n",
    "csv_data['cy'] = csv_data.region_shape_attributes.str.extract(',\"cy\":([^}]*)')\n",
    "csv_data.head()"
   ]
  },
  {
   "cell_type": "code",
   "execution_count": 5,
   "metadata": {},
   "outputs": [],
   "source": [
    "pivoted = csv_data.pivot(index='filename', columns='region_id', values=['cx','cy'])"
   ]
  },
  {
   "cell_type": "code",
   "execution_count": 6,
   "metadata": {},
   "outputs": [],
   "source": [
    "pivoted.to_csv (csv_path_final, index = True, header=True)"
   ]
  },
  {
   "cell_type": "code",
   "execution_count": 7,
   "metadata": {},
   "outputs": [],
   "source": [
    "csv_final = pd.read_csv(csv_path_final)  \n",
    "\n",
    "csv_final = csv_final[['cx', 'cy', 'cx.1', 'cy.1', 'cx.2', 'cy.2', 'cx.3', 'cy.3', 'cx.4', 'cy.4', 'cx.5', 'cy.5', 'cx.6', 'cy.6', 'cx.7', 'cy.7', 'cx.8', 'cy.8', 'cx.9', 'cy.9', 'cx.10', 'cy.10', 'cx.11', 'cy.11', 'cx.12', 'cy.12', 'cx.13', 'cy.13', 'cx.14', 'cy.14', 'cx.15', 'cy.15', 'Unnamed: 0']]\n",
    "csv_final.rename(columns={'cx': \"0x\", 'cy': '0y', 'cx.1': '1x', 'cy.1': '1y', 'cx.2': '2x', 'cy.2': '2y', 'cx.3': '3x', 'cy.3': '3y', 'cx.4': '4x', 'cy.4': '4y', 'cx.5': '5x', 'cy.5': '5y', 'cx.6': '6x', 'cy.6': '6y', 'cx.7': '7x', 'cy.7': '7y', 'cx.8': '8x', 'cy.8': '8y', 'cx.9': '9x', 'cy.9': '9y', 'cx.10': '10x', 'cy.10': '10y', 'cx.11': '11x', 'cy.11': '11y', 'cx.12': '12x', 'cy.12': '12y', 'cx.13': '13x', 'cy.13': '13y', 'cx.14': '14x', 'cy.14': '14y', 'cx.15': '15x', 'cy.15': '15y', 'Unnamed: 0': 'image'}, inplace=True)\n"
   ]
  },
  {
   "cell_type": "code",
   "execution_count": 8,
   "metadata": {},
   "outputs": [],
   "source": [
    "csv_final.drop(index=[0,1], inplace=True)"
   ]
  },
  {
   "cell_type": "code",
   "execution_count": 9,
   "metadata": {},
   "outputs": [],
   "source": [
    "csv_final.to_csv (csv_path_final, index = True, header=True)"
   ]
  },
  {
   "cell_type": "code",
   "execution_count": 10,
   "metadata": {},
   "outputs": [],
   "source": [
    "df = pd.read_csv(csv_path_final)\n",
    "first_column = df.columns[0]"
   ]
  },
  {
   "cell_type": "code",
   "execution_count": 11,
   "metadata": {},
   "outputs": [],
   "source": [
    "df = df.drop([first_column], axis=1)"
   ]
  },
  {
   "cell_type": "code",
   "execution_count": 12,
   "metadata": {},
   "outputs": [
    {
     "name": "stdout",
     "output_type": "stream",
     "text": [
      "      0x     0y     1x     1y     2x     2y     3x     3y     4x     4y  \\\n",
      "0  117.0  128.0  127.0  126.0  133.0  123.0  149.0  122.0  157.0  117.0   \n",
      "1   87.0   71.0  109.0   71.0  123.0   75.0  180.0   75.0  193.0   70.0   \n",
      "2  123.0  154.0  138.0  150.0  156.0  150.0  197.0  155.0  206.0  154.0   \n",
      "3  116.0  121.0  123.0  117.0  132.0  114.0  152.0  111.0  164.0  101.0   \n",
      "4   87.0  145.0   94.0  141.0  103.0  137.0  140.0  135.0  152.0  131.0   \n",
      "5  108.0  149.0  118.0  141.0  126.0  135.0  155.0  127.0  171.0  127.0   \n",
      "6  109.0  150.0  116.0  142.0  127.0  135.0  155.0  128.0  166.0  128.0   \n",
      "\n",
      "       ...          11y    12x    12y    13x    13y    14x    14y    15x  \\\n",
      "0      ...        160.0  175.0  187.0  158.0  205.0  130.0  192.0  119.0   \n",
      "1      ...        126.0  213.0  152.0  148.0  170.0  106.0  158.0   71.0   \n",
      "2      ...        193.0  203.0  217.0  170.0  228.0  133.0  218.0  104.0   \n",
      "3      ...        160.0  184.0  186.0  152.0  219.0  127.0  204.0  118.0   \n",
      "4      ...        172.0  182.0  192.0  149.0  214.0  111.0  207.0   91.0   \n",
      "5      ...        181.0  198.0  210.0  171.0  241.0  123.0  221.0  114.0   \n",
      "6      ...        184.0  205.0  206.0  157.0  244.0  125.0  226.0  105.0   \n",
      "\n",
      "     15y          image  \n",
      "0  170.0  testimg_1.jpg  \n",
      "1  119.0  testimg_2.jpg  \n",
      "2  190.0  testimg_3.jpg  \n",
      "3  172.0  testimg_4.jpg  \n",
      "4  184.0  testimg_5.jpg  \n",
      "5  197.0  testimg_6.jpg  \n",
      "6  194.0  testimg_7.jpg  \n",
      "\n",
      "[7 rows x 33 columns]\n"
     ]
    }
   ],
   "source": [
    "df.to_csv(csv_path_final, index=False)\n",
    "print (df)"
   ]
  },
  {
   "cell_type": "code",
   "execution_count": null,
   "metadata": {},
   "outputs": [],
   "source": []
  }
 ],
 "metadata": {
  "kernelspec": {
   "display_name": "Python 3 (ipykernel)",
   "language": "python",
   "name": "python3"
  },
  "language_info": {
   "codemirror_mode": {
    "name": "ipython",
    "version": 3
   },
   "file_extension": ".py",
   "mimetype": "text/x-python",
   "name": "python",
   "nbconvert_exporter": "python",
   "pygments_lexer": "ipython3",
   "version": "3.10.13"
  }
 },
 "nbformat": 4,
 "nbformat_minor": 2
}
